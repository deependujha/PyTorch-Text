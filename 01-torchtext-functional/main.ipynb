{
 "cells": [
  {
   "cell_type": "markdown",
   "metadata": {},
   "source": [
    "# TorchText Functional module\n",
    "\n",
    "- they are **stateless** and **functional**.\n",
    "- they don't have any parameters to learn."
   ]
  },
  {
   "cell_type": "markdown",
   "metadata": {},
   "source": [
    "---\n",
    "\n",
    "## 1. to_tensor\n",
    "\n",
    "Convert input to torch tensor"
   ]
  },
  {
   "cell_type": "code",
   "execution_count": 2,
   "metadata": {},
   "outputs": [
    {
     "data": {
      "text/plain": [
       "tensor([[  10,   20,   30,   40,   50,   60,    0,    0],\n",
       "        [  70,   80,   90,  100,  110,  120,  130, 6969],\n",
       "        [ 130,  140,  150,  160,  170,    0,    0,    0]])"
      ]
     },
     "execution_count": 2,
     "metadata": {},
     "output_type": "execute_result"
    }
   ],
   "source": [
    "import torch, torchtext\n",
    "from torchtext.functional import to_tensor\n",
    "\n",
    "my_input = [\n",
    "    [10, 20, 30, 40, 50, 60],\n",
    "    [70, 80, 90, 100, 110, 120,130,6969],\n",
    "    [130, 140, 150, 160, 170],\n",
    "]\n",
    "\n",
    "to_tensor(my_input, padding_value=0, dtype=torch.int64)"
   ]
  },
  {
   "cell_type": "markdown",
   "metadata": {},
   "source": [
    "---\n",
    "## 2. truncate\n",
    "\n",
    "Truncate input sequence or batch"
   ]
  },
  {
   "cell_type": "code",
   "execution_count": 3,
   "metadata": {},
   "outputs": [
    {
     "data": {
      "text/plain": [
       "[['Hello', 'world', 'how'], ['I', 'am', 'doing'], ['IMO', 'am', 'doing']]"
      ]
     },
     "execution_count": 3,
     "metadata": {},
     "output_type": "execute_result"
    }
   ],
   "source": [
    "import torch, torchtext\n",
    "from torchtext.functional import truncate\n",
    "\n",
    "my_input = [\n",
    "    [\"Hello\", \"world\", \"how\", \"are\", \"you\", \"today\"],\n",
    "    [\"I\", \"am\", \"doing\", \"well\", \"thank\", \"you\", \"for\", \"asking\"],\n",
    "    [\"IMO\", \"am\", \"doing\", \"well\", \"thank\", \"you\", \"for\", \"asking\"],\n",
    "]\n",
    "\n",
    "truncate(my_input, 3)"
   ]
  },
  {
   "cell_type": "markdown",
   "metadata": {},
   "source": [
    "---\n",
    "\n",
    "## 3. add_token\n",
    "\n",
    "Add token to start or end of sequence"
   ]
  },
  {
   "cell_type": "code",
   "execution_count": 4,
   "metadata": {},
   "outputs": [
    {
     "data": {
      "text/plain": [
       "[['Hello', 'world', 'how', 'are', 'you', 'today', '<my_token>'],\n",
       " ['I', 'am', 'doing', 'well', 'thank', 'you', 'for', 'asking', '<my_token>'],\n",
       " ['IMO', 'am', 'doing', 'well', 'thank', 'you', 'for', 'asking', '<my_token>']]"
      ]
     },
     "execution_count": 4,
     "metadata": {},
     "output_type": "execute_result"
    }
   ],
   "source": [
    "import torch, torchtext\n",
    "from torchtext.functional import add_token\n",
    "\n",
    "my_input = [\n",
    "    [\"Hello\", \"world\", \"how\", \"are\", \"you\", \"today\"],\n",
    "    [\"I\", \"am\", \"doing\", \"well\", \"thank\", \"you\", \"for\", \"asking\"],\n",
    "    [\"IMO\", \"am\", \"doing\", \"well\", \"thank\", \"you\", \"for\", \"asking\"],\n",
    "]\n",
    "\n",
    "add_token(my_input, \"<my_token>\", begin=False)"
   ]
  },
  {
   "cell_type": "markdown",
   "metadata": {},
   "source": [
    "---\n",
    "\n",
    "## 4. str_to_int\n",
    "\n",
    "Convert string tokens to integers (either single sequence or batch)."
   ]
  },
  {
   "cell_type": "code",
   "execution_count": 5,
   "metadata": {},
   "outputs": [
    {
     "data": {
      "text/plain": [
       "[[10, 20, 30, 40, 50, 60],\n",
       " [70, 80, 90, 100, 110, 120],\n",
       " [130, 140, 150, 160, 170, 180]]"
      ]
     },
     "execution_count": 5,
     "metadata": {},
     "output_type": "execute_result"
    }
   ],
   "source": [
    "import torch, torchtext\n",
    "from torchtext.functional import str_to_int\n",
    "\n",
    "my_input = [\n",
    "    [\"10\", \"20\", \"30\", \"40\", \"50\", \"60\"],\n",
    "    [\"70\", \"80\", \"90\", \"100\", \"110\", \"120\"],\n",
    "    [\"130\", \"140\", \"150\", \"160\", \"170\", \"180\"],\n",
    "]\n",
    "\n",
    "str_to_int(my_input)"
   ]
  }
 ],
 "metadata": {
  "kernelspec": {
   "display_name": "env",
   "language": "python",
   "name": "python3"
  },
  "language_info": {
   "codemirror_mode": {
    "name": "ipython",
    "version": 3
   },
   "file_extension": ".py",
   "mimetype": "text/x-python",
   "name": "python",
   "nbconvert_exporter": "python",
   "pygments_lexer": "ipython3",
   "version": "3.9.6"
  }
 },
 "nbformat": 4,
 "nbformat_minor": 2
}
