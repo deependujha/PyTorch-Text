{
 "cells": [
  {
   "cell_type": "code",
   "execution_count": 1,
   "metadata": {},
   "outputs": [],
   "source": [
    "import torch, torchtext\n",
    "from torchtext.functional import to_tensor\n",
    "xlmr_base = torchtext.models.XLMR_BASE_ENCODER"
   ]
  },
  {
   "cell_type": "code",
   "execution_count": 2,
   "metadata": {},
   "outputs": [
    {
     "name": "stderr",
     "output_type": "stream",
     "text": [
      "Downloading: \"https://download.pytorch.org/models/text/xlmr.base.encoder.pt\" to /Users/Deependu/.cache/torch/hub/checkpoints/xlmr.base.encoder.pt\n",
      "100%|██████████| 1.03G/1.03G [02:41<00:00, 6.87MB/s] \n"
     ]
    }
   ],
   "source": [
    "model = xlmr_base.get_model()"
   ]
  },
  {
   "cell_type": "code",
   "execution_count": 3,
   "metadata": {},
   "outputs": [
    {
     "name": "stderr",
     "output_type": "stream",
     "text": [
      "Downloading: \"https://download.pytorch.org/models/text/xlmr.vocab.pt\" to /Users/Deependu/.cache/torch/hub/checkpoints/xlmr.vocab.pt\n",
      "100%|██████████| 4.85M/4.85M [00:00<00:00, 7.10MB/s]\n"
     ]
    }
   ],
   "source": [
    "transform = xlmr_base.transform()"
   ]
  },
  {
   "cell_type": "code",
   "execution_count": 4,
   "metadata": {},
   "outputs": [],
   "source": [
    "input_batch = [\"Hello world\", \"How are you!\"]\n",
    "\n",
    "model_input = to_tensor(transform(input_batch), padding_value=1)"
   ]
  },
  {
   "cell_type": "code",
   "execution_count": 6,
   "metadata": {},
   "outputs": [
    {
     "data": {
      "text/plain": [
       "tensor([[    0, 35378,  8999,     2,     1,     1],\n",
       "        [    0, 11249,   621,   398,    38,     2]])"
      ]
     },
     "execution_count": 6,
     "metadata": {},
     "output_type": "execute_result"
    }
   ],
   "source": [
    "model_input"
   ]
  },
  {
   "cell_type": "code",
   "execution_count": 7,
   "metadata": {},
   "outputs": [],
   "source": [
    "output = model(model_input)"
   ]
  },
  {
   "cell_type": "code",
   "execution_count": 8,
   "metadata": {},
   "outputs": [
    {
     "data": {
      "text/plain": [
       "torch.Size([2, 6, 768])"
      ]
     },
     "execution_count": 8,
     "metadata": {},
     "output_type": "execute_result"
    }
   ],
   "source": [
    "output.shape"
   ]
  },
  {
   "cell_type": "code",
   "execution_count": 11,
   "metadata": {},
   "outputs": [
    {
     "data": {
      "text/plain": [
       "tensor([[ 0.0432,  0.0216,  0.1159,  ...,  0.0536,  0.2139, -0.0658],\n",
       "        [-0.0415,  0.1239, -0.0219,  ...,  0.1352,  0.0317,  0.0833],\n",
       "        [ 0.0447,  0.0541,  0.0336,  ..., -0.3586,  0.0385,  0.0146],\n",
       "        [-0.0525,  0.0481,  0.0343,  ..., -0.0105,  0.1096,  0.0275],\n",
       "        [ 0.6736,  0.4259,  0.1726,  ..., -0.3569,  0.4103,  0.2126],\n",
       "        [ 0.6037,  0.6312,  0.3598,  ..., -0.3414,  0.5490, -0.0261]],\n",
       "       grad_fn=<SelectBackward0>)"
      ]
     },
     "execution_count": 11,
     "metadata": {},
     "output_type": "execute_result"
    }
   ],
   "source": [
    "output[0]"
   ]
  }
 ],
 "metadata": {
  "kernelspec": {
   "display_name": "env",
   "language": "python",
   "name": "python3"
  },
  "language_info": {
   "codemirror_mode": {
    "name": "ipython",
    "version": 3
   },
   "file_extension": ".py",
   "mimetype": "text/x-python",
   "name": "python",
   "nbconvert_exporter": "python",
   "pygments_lexer": "ipython3",
   "version": "3.9.6"
  }
 },
 "nbformat": 4,
 "nbformat_minor": 2
}
