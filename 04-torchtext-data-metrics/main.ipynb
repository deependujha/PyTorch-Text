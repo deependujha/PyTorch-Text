{
 "cells": [
  {
   "cell_type": "markdown",
   "metadata": {},
   "source": [
    "## BLEU score\n",
    "\n",
    "- **BiLingual Evaluation Understudy**\n",
    "- a metric for automatically evaluating machine-translated text. \n",
    "- The BLEU score is a number between zero and one that measures the similarity of the machine-translated text to a set of high quality reference translations."
   ]
  },
  {
   "cell_type": "code",
   "execution_count": 16,
   "metadata": {},
   "outputs": [],
   "source": [
    "from torchtext.data.metrics import bleu_score"
   ]
  },
  {
   "cell_type": "code",
   "execution_count": 17,
   "metadata": {},
   "outputs": [
    {
     "data": {
      "text/plain": [
       "0.8408964276313782"
      ]
     },
     "execution_count": 17,
     "metadata": {},
     "output_type": "execute_result"
    }
   ],
   "source": [
    "candidate_corpus = [[\"My\", \"full\", \"pytorch\", \"test\"], [\"Another\", \"Sentence\"]]\n",
    "references_corpus = [\n",
    "    [[\"My\", \"full\", \"pytorch\", \"test\"], [\"Completely\", \"Different\"]],\n",
    "    [[\"No\", \"Match\"]],\n",
    "]\n",
    "\n",
    "bleu_score(candidate_corpus, references_corpus)"
   ]
  }
 ],
 "metadata": {
  "kernelspec": {
   "display_name": "env",
   "language": "python",
   "name": "python3"
  },
  "language_info": {
   "codemirror_mode": {
    "name": "ipython",
    "version": 3
   },
   "file_extension": ".py",
   "mimetype": "text/x-python",
   "name": "python",
   "nbconvert_exporter": "python",
   "pygments_lexer": "ipython3",
   "version": "3.9.6"
  }
 },
 "nbformat": 4,
 "nbformat_minor": 2
}
