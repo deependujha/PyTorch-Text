{
 "cells": [
  {
   "cell_type": "markdown",
   "metadata": {},
   "source": [
    "# TorchText Data Utils\n",
    "\n",
    "- Tokenize the sentences\n",
    "- Get ngrams from the sentences's tokens"
   ]
  },
  {
   "cell_type": "markdown",
   "metadata": {},
   "source": [
    "---\n",
    "\n",
    "## 1. get_tokenizer\n",
    "\n",
    "Generate tokenizer function for a string sentence."
   ]
  },
  {
   "cell_type": "code",
   "execution_count": 23,
   "metadata": {},
   "outputs": [
    {
     "name": "stdout",
     "output_type": "stream",
     "text": [
      "['you', 'can', 'now', 'install', 'torchtext', 'using', 'pip', '!']\n",
      "['new', 'iit', 'is', 'opening', 'in', 'new-delhi', '&', 'new-york', '!']\n",
      "['he', \"'\", 's', 'my', 'best', 'friend', '.']\n"
     ]
    }
   ],
   "source": [
    "import torchtext\n",
    "from torchtext.data import get_tokenizer\n",
    "\n",
    "tokenizer = get_tokenizer(\"basic_english\")\n",
    "\n",
    "my_inputs = [\n",
    "    \"You can now install TorchText using pip!\",\n",
    "    \"New IIT is opening in New-Delhi & New-York!\",\n",
    "    \"He's my best friend.\",\n",
    "]\n",
    "\n",
    "for my_input in my_inputs:\n",
    "    tokens = tokenizer(my_input)\n",
    "    print(tokens)"
   ]
  },
  {
   "cell_type": "markdown",
   "metadata": {},
   "source": [
    "---\n",
    "\n",
    "## 2. ngrams_iterator\n",
    "\n",
    "Return an iterator that yields the given tokens and their ngrams."
   ]
  },
  {
   "cell_type": "code",
   "execution_count": 24,
   "metadata": {},
   "outputs": [
    {
     "name": "stdout",
     "output_type": "stream",
     "text": [
      "['here', 'we', 'are', 'all', 'together', 'here we', 'we are', 'are all', 'all together']\n",
      "['we', 'are', 'all', 'together', 'again', 'we are', 'are all', 'all together', 'together again']\n"
     ]
    }
   ],
   "source": [
    "from torchtext.data.utils import ngrams_iterator\n",
    "\n",
    "token_lists = [\n",
    "    [\"here\", \"we\", \"are\",\"all\",\"together\"],\n",
    "    [\"we\", \"are\", \"all\", \"together\", \"again\"]\n",
    "]\n",
    "\n",
    "for token_list in token_lists:\n",
    "    print(list(ngrams_iterator(token_list, 2)))"
   ]
  }
 ],
 "metadata": {
  "kernelspec": {
   "display_name": "env",
   "language": "python",
   "name": "python3"
  },
  "language_info": {
   "codemirror_mode": {
    "name": "ipython",
    "version": 3
   },
   "file_extension": ".py",
   "mimetype": "text/x-python",
   "name": "python",
   "nbconvert_exporter": "python",
   "pygments_lexer": "ipython3",
   "version": "3.9.6"
  }
 },
 "nbformat": 4,
 "nbformat_minor": 2
}
