{
 "cells": [
  {
   "cell_type": "code",
   "execution_count": 1,
   "metadata": {},
   "outputs": [],
   "source": [
    "from torchtext.transforms import SentencePieceTokenizer"
   ]
  },
  {
   "cell_type": "code",
   "execution_count": 8,
   "metadata": {},
   "outputs": [
    {
     "name": "stderr",
     "output_type": "stream",
     "text": [
      "100%|██████████| 5.07M/5.07M [00:00<00:00, 5.09MB/s]\n"
     ]
    },
    {
     "data": {
      "text/plain": [
       "[['▁hell', 'o', '▁world'], ['▁attention', '▁is', '▁all', '▁you', '▁need', '!']]"
      ]
     },
     "execution_count": 8,
     "metadata": {},
     "output_type": "execute_result"
    }
   ],
   "source": [
    "xlmr_spm_model_path = (\n",
    "    r\"https://download.pytorch.org/models/text/xlmr.sentencepiece.bpe.model\"\n",
    ")\n",
    "transform = SentencePieceTokenizer(xlmr_spm_model_path)\n",
    "transform([\"hello world\", \"attention is all you need!\"])"
   ]
  }
 ],
 "metadata": {
  "kernelspec": {
   "display_name": "env",
   "language": "python",
   "name": "python3"
  },
  "language_info": {
   "codemirror_mode": {
    "name": "ipython",
    "version": 3
   },
   "file_extension": ".py",
   "mimetype": "text/x-python",
   "name": "python",
   "nbconvert_exporter": "python",
   "pygments_lexer": "ipython3",
   "version": "3.9.6"
  }
 },
 "nbformat": 4,
 "nbformat_minor": 2
}
