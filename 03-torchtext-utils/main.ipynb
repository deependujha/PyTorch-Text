{
 "cells": [
  {
   "cell_type": "markdown",
   "metadata": {},
   "source": [
    "## Download files"
   ]
  },
  {
   "cell_type": "code",
   "execution_count": 5,
   "metadata": {},
   "outputs": [
    {
     "name": "stderr",
     "output_type": "stream",
     "text": [
      "100%|██████████| 27.0k/27.0k [00:00<00:00, 14.7MB/s]\n"
     ]
    },
    {
     "data": {
      "text/plain": [
       "'/Users/Deependu/code/AI-CODES/PyTorchMastery/PyTorchText/03-torchtext-utils/.data/logo.png'"
      ]
     },
     "execution_count": 5,
     "metadata": {},
     "output_type": "execute_result"
    }
   ],
   "source": [
    "import torchtext\n",
    "\n",
    "url = \"https://pytorch.org/audio/stable/_images/logo.png\"\n",
    "\n",
    "torchtext.utils.download_from_url(url)"
   ]
  },
  {
   "cell_type": "markdown",
   "metadata": {},
   "source": [
    "---\n",
    "## Extract the files"
   ]
  },
  {
   "cell_type": "code",
   "execution_count": null,
   "metadata": {},
   "outputs": [],
   "source": [
    "from torchtext.utils import extract_archive\n",
    "\n",
    "from_path = \"PATH-TO-TAR.tar.gz\"\n",
    "to_path = \"alpha/\"\n",
    "torchtext.utils.extract_archive(from_path, to_path)"
   ]
  }
 ],
 "metadata": {
  "kernelspec": {
   "display_name": "env",
   "language": "python",
   "name": "python3"
  },
  "language_info": {
   "codemirror_mode": {
    "name": "ipython",
    "version": 3
   },
   "file_extension": ".py",
   "mimetype": "text/x-python",
   "name": "python",
   "nbconvert_exporter": "python",
   "pygments_lexer": "ipython3",
   "version": "3.9.6"
  }
 },
 "nbformat": 4,
 "nbformat_minor": 2
}
