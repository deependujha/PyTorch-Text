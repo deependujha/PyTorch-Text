{
 "cells": [
  {
   "cell_type": "markdown",
   "metadata": {},
   "source": [
    "## Vocab"
   ]
  },
  {
   "cell_type": "code",
   "execution_count": 2,
   "metadata": {},
   "outputs": [],
   "source": [
    "from torchtext.vocab import vocab\n",
    "from collections import Counter, OrderedDict"
   ]
  },
  {
   "cell_type": "code",
   "execution_count": 7,
   "metadata": {},
   "outputs": [
    {
     "data": {
      "text/plain": [
       "(Counter({'b': 3, 'a': 2}), dict_items([('a', 2), ('b', 3)]))"
      ]
     },
     "execution_count": 7,
     "metadata": {},
     "output_type": "execute_result"
    }
   ],
   "source": [
    "counter = Counter([\"a\", \"a\", \"b\", \"b\", \"b\"])\n",
    "counter, counter.items()"
   ]
  },
  {
   "cell_type": "code",
   "execution_count": 8,
   "metadata": {},
   "outputs": [
    {
     "data": {
      "text/plain": [
       "[('b', 3), ('a', 2)]"
      ]
     },
     "execution_count": 8,
     "metadata": {},
     "output_type": "execute_result"
    }
   ],
   "source": [
    "sorted_by_freq_tuples = sorted(counter.items(), key=lambda x: x[1], reverse=True)\n",
    "sorted_by_freq_tuples"
   ]
  },
  {
   "cell_type": "code",
   "execution_count": 11,
   "metadata": {},
   "outputs": [
    {
     "data": {
      "text/plain": [
       "OrderedDict([('b', 3), ('a', 2)])"
      ]
     },
     "execution_count": 11,
     "metadata": {},
     "output_type": "execute_result"
    }
   ],
   "source": [
    "ordered_dict = OrderedDict(sorted_by_freq_tuples)\n",
    "ordered_dict"
   ]
  },
  {
   "cell_type": "code",
   "execution_count": 26,
   "metadata": {},
   "outputs": [
    {
     "name": "stdout",
     "output_type": "stream",
     "text": [
      "1\n",
      "0\n"
     ]
    }
   ],
   "source": [
    "v1 = vocab(ordered_dict)\n",
    "\n",
    "print(v1[\"a\"])\n",
    "print(v1[\"b\"])"
   ]
  },
  {
   "cell_type": "code",
   "execution_count": 27,
   "metadata": {},
   "outputs": [
    {
     "ename": "RuntimeError",
     "evalue": "Token out of vocab not found and default index is not set",
     "output_type": "error",
     "traceback": [
      "\u001b[0;31m---------------------------------------------------------------------------\u001b[0m",
      "\u001b[0;31mRuntimeError\u001b[0m                              Traceback (most recent call last)",
      "Cell \u001b[0;32mIn[27], line 1\u001b[0m\n\u001b[0;32m----> 1\u001b[0m \u001b[38;5;28mprint\u001b[39m(\u001b[43mv1\u001b[49m\u001b[43m[\u001b[49m\u001b[38;5;124;43m'\u001b[39;49m\u001b[38;5;124;43mout of vocab\u001b[39;49m\u001b[38;5;124;43m'\u001b[39;49m\u001b[43m]\u001b[49m)\n",
      "File \u001b[0;32m~/code/AI-CODES/PyTorchMastery/PyTorchText/env/lib/python3.9/site-packages/torchtext/vocab/vocab.py:65\u001b[0m, in \u001b[0;36mVocab.__getitem__\u001b[0;34m(self, token)\u001b[0m\n\u001b[1;32m     56\u001b[0m \u001b[38;5;129m@torch\u001b[39m\u001b[38;5;241m.\u001b[39mjit\u001b[38;5;241m.\u001b[39mexport\n\u001b[1;32m     57\u001b[0m \u001b[38;5;28;01mdef\u001b[39;00m \u001b[38;5;21m__getitem__\u001b[39m(\u001b[38;5;28mself\u001b[39m, token: \u001b[38;5;28mstr\u001b[39m) \u001b[38;5;241m-\u001b[39m\u001b[38;5;241m>\u001b[39m \u001b[38;5;28mint\u001b[39m:\n\u001b[1;32m     58\u001b[0m \u001b[38;5;250m    \u001b[39m\u001b[38;5;124mr\u001b[39m\u001b[38;5;124;03m\"\"\"\u001b[39;00m\n\u001b[1;32m     59\u001b[0m \u001b[38;5;124;03m    Args:\u001b[39;00m\n\u001b[1;32m     60\u001b[0m \u001b[38;5;124;03m        token: The token used to lookup the corresponding index.\u001b[39;00m\n\u001b[0;32m   (...)\u001b[0m\n\u001b[1;32m     63\u001b[0m \u001b[38;5;124;03m        The index corresponding to the associated token.\u001b[39;00m\n\u001b[1;32m     64\u001b[0m \u001b[38;5;124;03m    \"\"\"\u001b[39;00m\n\u001b[0;32m---> 65\u001b[0m     \u001b[38;5;28;01mreturn\u001b[39;00m \u001b[38;5;28;43mself\u001b[39;49m\u001b[38;5;241;43m.\u001b[39;49m\u001b[43mvocab\u001b[49m\u001b[43m[\u001b[49m\u001b[43mtoken\u001b[49m\u001b[43m]\u001b[49m\n",
      "\u001b[0;31mRuntimeError\u001b[0m: Token out of vocab not found and default index is not set"
     ]
    }
   ],
   "source": [
    "print(v1['out of vocab'])"
   ]
  },
  {
   "cell_type": "code",
   "execution_count": 14,
   "metadata": {},
   "outputs": [],
   "source": [
    "tokens = ['e', 'd', 'c', 'b', 'a']\n",
    "#adding <unk> token and default index\n",
    "unk_token = '<unk>'\n",
    "default_index = -1"
   ]
  },
  {
   "cell_type": "code",
   "execution_count": 22,
   "metadata": {},
   "outputs": [
    {
     "name": "stdout",
     "output_type": "stream",
     "text": [
      "0\n",
      "-1\n"
     ]
    }
   ],
   "source": [
    "v2 = vocab(OrderedDict([(token, 1) for token in tokens]), specials=[unk_token], min_freq=1)\n",
    "v2.set_default_index(default_index)\n",
    "print(v2['<unk>']) #prints 0\n",
    "print(v2['out of vocab']) #prints -1"
   ]
  },
  {
   "cell_type": "code",
   "execution_count": 16,
   "metadata": {},
   "outputs": [
    {
     "data": {
      "text/plain": [
       "True"
      ]
     },
     "execution_count": 16,
     "metadata": {},
     "output_type": "execute_result"
    }
   ],
   "source": [
    "#make default index same as index of unk_token\n",
    "v2.set_default_index(v2[unk_token])\n",
    "v2['out of vocab'] is v2[unk_token] #prints True"
   ]
  },
  {
   "cell_type": "markdown",
   "metadata": {},
   "source": [
    "---\n",
    "\n",
    "## build_vocab_from_iterator\n",
    "\n",
    "Build a Vocab from an iterator."
   ]
  },
  {
   "cell_type": "code",
   "execution_count": 36,
   "metadata": {},
   "outputs": [],
   "source": [
    "#generating vocab from text file\n",
    "import io\n",
    "from torchtext.vocab import build_vocab_from_iterator\n",
    "def yield_tokens(file_path):\n",
    "    with io.open(file_path, encoding = 'utf-8') as f:\n",
    "        for line in f:\n",
    "            val =  line.strip().split()\n",
    "            print(f\"{val=}\")\n",
    "            yield val"
   ]
  },
  {
   "cell_type": "code",
   "execution_count": 40,
   "metadata": {},
   "outputs": [
    {
     "name": "stdout",
     "output_type": "stream",
     "text": [
      "val=['My', 'name', 'is', 'Deependu.']\n",
      "val=[\"I'm\", 'a', 'NLP', '&', 'Cloud', 'Engineer.']\n",
      "val=[\"I'm\", 'a', 'tech', 'enthusiast', 'and', 'a', 'lifelong', 'learner.']\n",
      "val=[\"I'm\", 'willing', 'to', 'join', 'a', 'small', 'team', 'of', 'people', 'who', 'are', 'passionate', 'about', 'what', 'they', 'do', 'and', 'are', 'looking', 'to', 'make', 'a', 'positive', 'impact', 'on', 'the', 'world.']\n",
      "val=['A', 'big', 'firm', 'is', 'not', 'my', 'cup', 'of', 'tea.', \"I'm\", 'looking', 'for', 'a', 'small', 'team', 'of', 'people', 'who', 'are', 'passionate', 'about', 'what', 'they', 'do', 'and', 'are', 'looking', 'to', 'make', 'a', 'positive', 'impact', 'on', 'the', 'world.']\n"
     ]
    },
    {
     "data": {
      "text/plain": [
       "Vocab()"
      ]
     },
     "execution_count": 40,
     "metadata": {},
     "output_type": "execute_result"
    }
   ],
   "source": [
    "vocab = build_vocab_from_iterator(yield_tokens(\"hello.txt\"), specials=[\"<unk>\"], special_first=False)\n",
    "\n",
    "vocab"
   ]
  },
  {
   "cell_type": "code",
   "execution_count": 41,
   "metadata": {},
   "outputs": [
    {
     "data": {
      "text/plain": [
       "(26, 0, 44)"
      ]
     },
     "execution_count": 41,
     "metadata": {},
     "output_type": "execute_result"
    }
   ],
   "source": [
    "vocab['Deependu.'], vocab['a'], vocab['<unk>']"
   ]
  },
  {
   "cell_type": "code",
   "execution_count": 44,
   "metadata": {},
   "outputs": [
    {
     "name": "stdout",
     "output_type": "stream",
     "text": [
      "i=0; a\n",
      "i=1; I'm\n",
      "i=2; are\n",
      "i=3; and\n",
      "i=4; looking\n",
      "i=5; of\n",
      "i=6; to\n",
      "i=7; about\n",
      "i=8; do\n",
      "i=9; impact\n",
      "i=10; is\n",
      "i=11; make\n",
      "i=12; on\n",
      "i=13; passionate\n",
      "i=14; people\n",
      "i=15; positive\n",
      "i=16; small\n",
      "i=17; team\n",
      "i=18; the\n",
      "i=19; they\n",
      "i=20; what\n",
      "i=21; who\n",
      "i=22; world.\n",
      "i=23; &\n",
      "i=24; A\n",
      "i=25; Cloud\n",
      "i=26; Deependu.\n",
      "i=27; Engineer.\n",
      "i=28; My\n",
      "i=29; NLP\n",
      "i=30; big\n",
      "i=31; cup\n",
      "i=32; enthusiast\n",
      "i=33; firm\n",
      "i=34; for\n",
      "i=35; join\n",
      "i=36; learner.\n",
      "i=37; lifelong\n",
      "i=38; my\n",
      "i=39; name\n",
      "i=40; not\n",
      "i=41; tea.\n",
      "i=42; tech\n",
      "i=43; willing\n",
      "i=44; <unk>\n"
     ]
    }
   ],
   "source": [
    "for i in range(45):\n",
    "    print(f\"{i=}; {vocab.lookup_token(i)}\")"
   ]
  }
 ],
 "metadata": {
  "kernelspec": {
   "display_name": "env",
   "language": "python",
   "name": "python3"
  },
  "language_info": {
   "codemirror_mode": {
    "name": "ipython",
    "version": 3
   },
   "file_extension": ".py",
   "mimetype": "text/x-python",
   "name": "python",
   "nbconvert_exporter": "python",
   "pygments_lexer": "ipython3",
   "version": "3.9.6"
  }
 },
 "nbformat": 4,
 "nbformat_minor": 2
}
